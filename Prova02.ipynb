{
 "cells": [
  {
   "cell_type": "code",
   "execution_count": 1,
   "id": "115937bd-08c7-4a7e-88cf-86224d27d594",
   "metadata": {},
   "outputs": [],
   "source": [
    "consumo_diario = [ 50, 45, 55, 60, 48, 52, 47, 49, 53, 51, 50, 46, 54, 61, 49, 53, 48, 50, 52, 47, 56, 50, 55, 60, 48, 52, 47, 49, 53, 51]"
   ]
  },
  {
   "cell_type": "code",
   "execution_count": 2,
   "id": "e7f4ede2-7ed6-4bb2-a907-904a2f777c37",
   "metadata": {},
   "outputs": [],
   "source": [
    "def consumo(lista):\n",
    "    total_consumo = 0\n",
    "    for n in lista:\n",
    "        total_consumo += n\n",
    "        media = total_consumo/len(lista)\n",
    "    return media"
   ]
  },
  {
   "cell_type": "code",
   "execution_count": 3,
   "id": "6cdfa12a-d33f-469b-9c09-4176af850021",
   "metadata": {},
   "outputs": [
    {
     "name": "stdout",
     "output_type": "stream",
     "text": [
      "O consumo diário médio foi: 51.36666666666667\n"
     ]
    }
   ],
   "source": [
    "print(f\"O consumo diário médio foi: {consumo(consumo_diario)}\")"
   ]
  },
  {
   "cell_type": "code",
   "execution_count": null,
   "id": "3690aac6-daaf-4d1f-a479-e5c76fa0b961",
   "metadata": {},
   "outputs": [],
   "source": []
  }
 ],
 "metadata": {
  "kernelspec": {
   "display_name": "Python 3 (ipykernel)",
   "language": "python",
   "name": "python3"
  },
  "language_info": {
   "codemirror_mode": {
    "name": "ipython",
    "version": 3
   },
   "file_extension": ".py",
   "mimetype": "text/x-python",
   "name": "python",
   "nbconvert_exporter": "python",
   "pygments_lexer": "ipython3",
   "version": "3.12.4"
  }
 },
 "nbformat": 4,
 "nbformat_minor": 5
}
